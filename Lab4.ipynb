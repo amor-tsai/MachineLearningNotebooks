{
 "cells": [
  {
   "cell_type": "markdown",
   "metadata": {},
   "source": [
    "# Lab Assignment Four: Multi-Layer Perceptron"
   ]
  },
  {
   "cell_type": "markdown",
   "metadata": {},
   "source": [
    "## 1.Load, Split, and Balance\n",
    "\n",
    "- [.5 points] Load the data into memory and save it to a pandas data frame. Do not normalize or one-hot encode any of the variables until asked to do so.  Remove any observations that having missing data. Encode any string data as integers for now. \n",
    "- [.5 points] Assume you are equally interested in the classification performance for each class in the dataset. Split the dataset into 80% for training and 20% for testing.\n",
    "- [.5 points] Balance the dataset so that about the same number of instances are within each class. Choose a method for balancing the dataset and explain your reasoning for selecting this method. One option is to choose quantization thresholds for the \"ChildPoverty\" variable that equally divide the data into four classes. Should balancing of the dataset be done for both the training and testing set? Explain."
   ]
  },
  {
   "cell_type": "code",
   "execution_count": 39,
   "metadata": {},
   "outputs": [
    {
     "output_type": "stream",
     "name": "stdout",
     "text": [
      "numpy version is: 1.19.2\npandas version is: 1.1.3\n"
     ]
    }
   ],
   "source": [
    "#import the lib needed \n",
    "import pandas as pd\n",
    "import numpy as np\n",
    "from matplotlib import pyplot as plt\n",
    "import seaborn as sns\n",
    "from sklearn.decomposition import PCA\n",
    "from sklearn.metrics import accuracy_score\n",
    "from scipy.special import expit\n",
    "from sklearn.model_selection import train_test_split\n",
    "import copy\n",
    "from sklearn.model_selection import ShuffleSplit\n",
    "from sklearn import metrics as mt\n",
    "from sklearn.preprocessing import LabelEncoder\n",
    "import sys\n",
    "\n",
    "%matplotlib inline\n",
    "%config InlineBackend.figure_format='retina'\n",
    "\n",
    "print(\"numpy version is:\",np.__version__)\n",
    "print(\"pandas version is:\",pd.__version__)"
   ]
  },
  {
   "cell_type": "code",
   "execution_count": 40,
   "metadata": {},
   "outputs": [
    {
     "output_type": "execute_result",
     "data": {
      "text/plain": [
       "             TractId       State              County      TotalPop  \\\n",
       "count   7.400100e+04       74001               74001  74001.000000   \n",
       "unique           NaN          52                1955           NaN   \n",
       "top              NaN  California  Los Angeles County           NaN   \n",
       "freq             NaN        8057                2346           NaN   \n",
       "mean    2.839113e+10         NaN                 NaN   4384.716017   \n",
       "std     1.647593e+10         NaN                 NaN   2228.936729   \n",
       "min     1.001020e+09         NaN                 NaN      0.000000   \n",
       "25%     1.303901e+10         NaN                 NaN   2903.000000   \n",
       "50%     2.804700e+10         NaN                 NaN   4105.000000   \n",
       "75%     4.200341e+10         NaN                 NaN   5506.000000   \n",
       "max     7.215375e+10         NaN                 NaN  65528.000000   \n",
       "\n",
       "                 Men         Women      Hispanic         White        Black  \\\n",
       "count   74001.000000  74001.000000  73305.000000  73305.000000  73305.00000   \n",
       "unique           NaN           NaN           NaN           NaN          NaN   \n",
       "top              NaN           NaN           NaN           NaN          NaN   \n",
       "freq             NaN           NaN           NaN           NaN          NaN   \n",
       "mean     2157.710707   2227.005311     17.265444     61.309043     13.28910   \n",
       "std      1120.560504   1146.240218     23.073811     30.634461     21.60118   \n",
       "min         0.000000      0.000000      0.000000      0.000000      0.00000   \n",
       "25%      1416.000000   1465.000000      2.600000     38.000000      0.80000   \n",
       "50%      2007.000000   2082.000000      7.400000     70.400000      3.80000   \n",
       "75%      2707.000000   2803.000000     21.100000     87.700000     14.60000   \n",
       "max     32266.000000  33262.000000    100.000000    100.000000    100.00000   \n",
       "\n",
       "              Native         Asian       Pacific  VotingAgeCitizen  \\\n",
       "count   73305.000000  73305.000000  73305.000000      74001.000000   \n",
       "unique           NaN           NaN           NaN               NaN   \n",
       "top              NaN           NaN           NaN               NaN   \n",
       "freq             NaN           NaN           NaN               NaN   \n",
       "mean        0.734047      4.753691      0.147341       3102.885961   \n",
       "std         4.554247      8.999888      1.029250       1542.245024   \n",
       "min         0.000000      0.000000      0.000000          0.000000   \n",
       "25%         0.000000      0.200000      0.000000       2061.000000   \n",
       "50%         0.000000      1.500000      0.000000       2905.000000   \n",
       "75%         0.400000      5.000000      0.000000       3906.000000   \n",
       "max       100.000000    100.000000     71.900000      39389.000000   \n",
       "\n",
       "               Income      IncomeErr   IncomePerCap  IncomePerCapErr  \\\n",
       "count    72885.000000   72885.000000   73256.000000     73256.000000   \n",
       "unique            NaN            NaN            NaN              NaN   \n",
       "top               NaN            NaN            NaN              NaN   \n",
       "freq              NaN            NaN            NaN              NaN   \n",
       "mean     61086.829265    9697.465747   30651.804194      4270.174225   \n",
       "std      30516.098180    6154.669518   16126.937143      3148.049041   \n",
       "min       2692.000000     728.000000      32.000000        20.000000   \n",
       "25%      40357.000000    5735.000000   20556.750000      2503.000000   \n",
       "50%      54375.000000    8267.000000   27215.500000      3404.000000   \n",
       "75%      74659.000000   11913.000000   36408.250000      4968.250000   \n",
       "max     249750.000000  153365.000000  220253.000000    134017.000000   \n",
       "\n",
       "             Poverty  ChildPoverty  Professional       Service        Office  \\\n",
       "count   73159.000000  72891.000000  73190.000000  73190.000000  73190.000000   \n",
       "unique           NaN           NaN           NaN           NaN           NaN   \n",
       "top              NaN           NaN           NaN           NaN           NaN   \n",
       "freq             NaN           NaN           NaN           NaN           NaN   \n",
       "mean       16.118186     21.155872     35.559478     18.874446     23.427724   \n",
       "std        12.691045     18.645759     15.144984      8.137261      5.806091   \n",
       "min         0.000000      0.000000      0.000000      0.000000      0.000000   \n",
       "25%         6.900000      6.200000     24.700000     13.300000     19.700000   \n",
       "50%        12.600000     16.300000     33.300000     17.700000     23.200000   \n",
       "75%        21.800000     31.600000     44.900000     23.300000     26.900000   \n",
       "max       100.000000    100.000000    100.000000    100.000000    100.000000   \n",
       "\n",
       "        Construction    Production         Drive       Carpool       Transit  \\\n",
       "count   73190.000000  73190.000000  73200.000000  73200.000000  73200.000000   \n",
       "unique           NaN           NaN           NaN           NaN           NaN   \n",
       "top              NaN           NaN           NaN           NaN           NaN   \n",
       "freq             NaN           NaN           NaN           NaN           NaN   \n",
       "mean        9.239350     12.899281     75.698005      9.308369      5.395186   \n",
       "std         6.031393      7.712496     15.292660      5.222494     11.689470   \n",
       "min         0.000000      0.000000      0.000000      0.000000      0.000000   \n",
       "25%         5.000000      7.100000     72.200000      5.700000      0.000000   \n",
       "50%         8.300000     11.800000     79.900000      8.500000      1.000000   \n",
       "75%        12.500000     17.500000     84.900000     11.900000      4.600000   \n",
       "max       100.000000    100.000000    100.000000    100.000000    100.000000   \n",
       "\n",
       "                Walk   OtherTransp    WorkAtHome   MeanCommute      Employed  \\\n",
       "count   73200.000000  73200.000000  73200.000000  73055.000000  74001.000000   \n",
       "unique           NaN           NaN           NaN           NaN           NaN   \n",
       "top              NaN           NaN           NaN           NaN           NaN   \n",
       "freq             NaN           NaN           NaN           NaN           NaN   \n",
       "mean        3.042825      1.894605      4.661466     26.056594   2049.152052   \n",
       "std         5.805753      2.549374      4.014940      7.124524   1138.865457   \n",
       "min         0.000000      0.000000      0.000000      1.000000      0.000000   \n",
       "25%         0.400000      0.400000      2.000000     21.100000   1276.000000   \n",
       "50%         1.400000      1.200000      3.800000     25.400000   1895.000000   \n",
       "75%         3.300000      2.500000      6.300000     30.300000   2635.000000   \n",
       "max       100.000000    100.000000    100.000000     73.900000  28945.000000   \n",
       "\n",
       "         PrivateWork    PublicWork  SelfEmployed    FamilyWork  Unemployment  \n",
       "count   73190.000000  73190.000000  73190.000000  73190.000000  73191.000000  \n",
       "unique           NaN           NaN           NaN           NaN           NaN  \n",
       "top              NaN           NaN           NaN           NaN           NaN  \n",
       "freq             NaN           NaN           NaN           NaN           NaN  \n",
       "mean       79.494222     14.163342      6.171484      0.171164      7.246738  \n",
       "std         8.126383      7.328680      3.932364      0.456580      5.227624  \n",
       "min         0.000000      0.000000      0.000000      0.000000      0.000000  \n",
       "25%        75.200000      9.300000      3.500000      0.000000      3.900000  \n",
       "50%        80.600000     13.000000      5.500000      0.000000      6.000000  \n",
       "75%        85.000000     17.600000      8.000000      0.000000      9.000000  \n",
       "max       100.000000    100.000000    100.000000     22.300000    100.000000  "
      ],
      "text/html": "<div>\n<style scoped>\n    .dataframe tbody tr th:only-of-type {\n        vertical-align: middle;\n    }\n\n    .dataframe tbody tr th {\n        vertical-align: top;\n    }\n\n    .dataframe thead th {\n        text-align: right;\n    }\n</style>\n<table border=\"1\" class=\"dataframe\">\n  <thead>\n    <tr style=\"text-align: right;\">\n      <th></th>\n      <th>TractId</th>\n      <th>State</th>\n      <th>County</th>\n      <th>TotalPop</th>\n      <th>Men</th>\n      <th>Women</th>\n      <th>Hispanic</th>\n      <th>White</th>\n      <th>Black</th>\n      <th>Native</th>\n      <th>Asian</th>\n      <th>Pacific</th>\n      <th>VotingAgeCitizen</th>\n      <th>Income</th>\n      <th>IncomeErr</th>\n      <th>IncomePerCap</th>\n      <th>IncomePerCapErr</th>\n      <th>Poverty</th>\n      <th>ChildPoverty</th>\n      <th>Professional</th>\n      <th>Service</th>\n      <th>Office</th>\n      <th>Construction</th>\n      <th>Production</th>\n      <th>Drive</th>\n      <th>Carpool</th>\n      <th>Transit</th>\n      <th>Walk</th>\n      <th>OtherTransp</th>\n      <th>WorkAtHome</th>\n      <th>MeanCommute</th>\n      <th>Employed</th>\n      <th>PrivateWork</th>\n      <th>PublicWork</th>\n      <th>SelfEmployed</th>\n      <th>FamilyWork</th>\n      <th>Unemployment</th>\n    </tr>\n  </thead>\n  <tbody>\n    <tr>\n      <th>count</th>\n      <td>7.400100e+04</td>\n      <td>74001</td>\n      <td>74001</td>\n      <td>74001.000000</td>\n      <td>74001.000000</td>\n      <td>74001.000000</td>\n      <td>73305.000000</td>\n      <td>73305.000000</td>\n      <td>73305.00000</td>\n      <td>73305.000000</td>\n      <td>73305.000000</td>\n      <td>73305.000000</td>\n      <td>74001.000000</td>\n      <td>72885.000000</td>\n      <td>72885.000000</td>\n      <td>73256.000000</td>\n      <td>73256.000000</td>\n      <td>73159.000000</td>\n      <td>72891.000000</td>\n      <td>73190.000000</td>\n      <td>73190.000000</td>\n      <td>73190.000000</td>\n      <td>73190.000000</td>\n      <td>73190.000000</td>\n      <td>73200.000000</td>\n      <td>73200.000000</td>\n      <td>73200.000000</td>\n      <td>73200.000000</td>\n      <td>73200.000000</td>\n      <td>73200.000000</td>\n      <td>73055.000000</td>\n      <td>74001.000000</td>\n      <td>73190.000000</td>\n      <td>73190.000000</td>\n      <td>73190.000000</td>\n      <td>73190.000000</td>\n      <td>73191.000000</td>\n    </tr>\n    <tr>\n      <th>unique</th>\n      <td>NaN</td>\n      <td>52</td>\n      <td>1955</td>\n      <td>NaN</td>\n      <td>NaN</td>\n      <td>NaN</td>\n      <td>NaN</td>\n      <td>NaN</td>\n      <td>NaN</td>\n      <td>NaN</td>\n      <td>NaN</td>\n      <td>NaN</td>\n      <td>NaN</td>\n      <td>NaN</td>\n      <td>NaN</td>\n      <td>NaN</td>\n      <td>NaN</td>\n      <td>NaN</td>\n      <td>NaN</td>\n      <td>NaN</td>\n      <td>NaN</td>\n      <td>NaN</td>\n      <td>NaN</td>\n      <td>NaN</td>\n      <td>NaN</td>\n      <td>NaN</td>\n      <td>NaN</td>\n      <td>NaN</td>\n      <td>NaN</td>\n      <td>NaN</td>\n      <td>NaN</td>\n      <td>NaN</td>\n      <td>NaN</td>\n      <td>NaN</td>\n      <td>NaN</td>\n      <td>NaN</td>\n      <td>NaN</td>\n    </tr>\n    <tr>\n      <th>top</th>\n      <td>NaN</td>\n      <td>California</td>\n      <td>Los Angeles County</td>\n      <td>NaN</td>\n      <td>NaN</td>\n      <td>NaN</td>\n      <td>NaN</td>\n      <td>NaN</td>\n      <td>NaN</td>\n      <td>NaN</td>\n      <td>NaN</td>\n      <td>NaN</td>\n      <td>NaN</td>\n      <td>NaN</td>\n      <td>NaN</td>\n      <td>NaN</td>\n      <td>NaN</td>\n      <td>NaN</td>\n      <td>NaN</td>\n      <td>NaN</td>\n      <td>NaN</td>\n      <td>NaN</td>\n      <td>NaN</td>\n      <td>NaN</td>\n      <td>NaN</td>\n      <td>NaN</td>\n      <td>NaN</td>\n      <td>NaN</td>\n      <td>NaN</td>\n      <td>NaN</td>\n      <td>NaN</td>\n      <td>NaN</td>\n      <td>NaN</td>\n      <td>NaN</td>\n      <td>NaN</td>\n      <td>NaN</td>\n      <td>NaN</td>\n    </tr>\n    <tr>\n      <th>freq</th>\n      <td>NaN</td>\n      <td>8057</td>\n      <td>2346</td>\n      <td>NaN</td>\n      <td>NaN</td>\n      <td>NaN</td>\n      <td>NaN</td>\n      <td>NaN</td>\n      <td>NaN</td>\n      <td>NaN</td>\n      <td>NaN</td>\n      <td>NaN</td>\n      <td>NaN</td>\n      <td>NaN</td>\n      <td>NaN</td>\n      <td>NaN</td>\n      <td>NaN</td>\n      <td>NaN</td>\n      <td>NaN</td>\n      <td>NaN</td>\n      <td>NaN</td>\n      <td>NaN</td>\n      <td>NaN</td>\n      <td>NaN</td>\n      <td>NaN</td>\n      <td>NaN</td>\n      <td>NaN</td>\n      <td>NaN</td>\n      <td>NaN</td>\n      <td>NaN</td>\n      <td>NaN</td>\n      <td>NaN</td>\n      <td>NaN</td>\n      <td>NaN</td>\n      <td>NaN</td>\n      <td>NaN</td>\n      <td>NaN</td>\n    </tr>\n    <tr>\n      <th>mean</th>\n      <td>2.839113e+10</td>\n      <td>NaN</td>\n      <td>NaN</td>\n      <td>4384.716017</td>\n      <td>2157.710707</td>\n      <td>2227.005311</td>\n      <td>17.265444</td>\n      <td>61.309043</td>\n      <td>13.28910</td>\n      <td>0.734047</td>\n      <td>4.753691</td>\n      <td>0.147341</td>\n      <td>3102.885961</td>\n      <td>61086.829265</td>\n      <td>9697.465747</td>\n      <td>30651.804194</td>\n      <td>4270.174225</td>\n      <td>16.118186</td>\n      <td>21.155872</td>\n      <td>35.559478</td>\n      <td>18.874446</td>\n      <td>23.427724</td>\n      <td>9.239350</td>\n      <td>12.899281</td>\n      <td>75.698005</td>\n      <td>9.308369</td>\n      <td>5.395186</td>\n      <td>3.042825</td>\n      <td>1.894605</td>\n      <td>4.661466</td>\n      <td>26.056594</td>\n      <td>2049.152052</td>\n      <td>79.494222</td>\n      <td>14.163342</td>\n      <td>6.171484</td>\n      <td>0.171164</td>\n      <td>7.246738</td>\n    </tr>\n    <tr>\n      <th>std</th>\n      <td>1.647593e+10</td>\n      <td>NaN</td>\n      <td>NaN</td>\n      <td>2228.936729</td>\n      <td>1120.560504</td>\n      <td>1146.240218</td>\n      <td>23.073811</td>\n      <td>30.634461</td>\n      <td>21.60118</td>\n      <td>4.554247</td>\n      <td>8.999888</td>\n      <td>1.029250</td>\n      <td>1542.245024</td>\n      <td>30516.098180</td>\n      <td>6154.669518</td>\n      <td>16126.937143</td>\n      <td>3148.049041</td>\n      <td>12.691045</td>\n      <td>18.645759</td>\n      <td>15.144984</td>\n      <td>8.137261</td>\n      <td>5.806091</td>\n      <td>6.031393</td>\n      <td>7.712496</td>\n      <td>15.292660</td>\n      <td>5.222494</td>\n      <td>11.689470</td>\n      <td>5.805753</td>\n      <td>2.549374</td>\n      <td>4.014940</td>\n      <td>7.124524</td>\n      <td>1138.865457</td>\n      <td>8.126383</td>\n      <td>7.328680</td>\n      <td>3.932364</td>\n      <td>0.456580</td>\n      <td>5.227624</td>\n    </tr>\n    <tr>\n      <th>min</th>\n      <td>1.001020e+09</td>\n      <td>NaN</td>\n      <td>NaN</td>\n      <td>0.000000</td>\n      <td>0.000000</td>\n      <td>0.000000</td>\n      <td>0.000000</td>\n      <td>0.000000</td>\n      <td>0.00000</td>\n      <td>0.000000</td>\n      <td>0.000000</td>\n      <td>0.000000</td>\n      <td>0.000000</td>\n      <td>2692.000000</td>\n      <td>728.000000</td>\n      <td>32.000000</td>\n      <td>20.000000</td>\n      <td>0.000000</td>\n      <td>0.000000</td>\n      <td>0.000000</td>\n      <td>0.000000</td>\n      <td>0.000000</td>\n      <td>0.000000</td>\n      <td>0.000000</td>\n      <td>0.000000</td>\n      <td>0.000000</td>\n      <td>0.000000</td>\n      <td>0.000000</td>\n      <td>0.000000</td>\n      <td>0.000000</td>\n      <td>1.000000</td>\n      <td>0.000000</td>\n      <td>0.000000</td>\n      <td>0.000000</td>\n      <td>0.000000</td>\n      <td>0.000000</td>\n      <td>0.000000</td>\n    </tr>\n    <tr>\n      <th>25%</th>\n      <td>1.303901e+10</td>\n      <td>NaN</td>\n      <td>NaN</td>\n      <td>2903.000000</td>\n      <td>1416.000000</td>\n      <td>1465.000000</td>\n      <td>2.600000</td>\n      <td>38.000000</td>\n      <td>0.80000</td>\n      <td>0.000000</td>\n      <td>0.200000</td>\n      <td>0.000000</td>\n      <td>2061.000000</td>\n      <td>40357.000000</td>\n      <td>5735.000000</td>\n      <td>20556.750000</td>\n      <td>2503.000000</td>\n      <td>6.900000</td>\n      <td>6.200000</td>\n      <td>24.700000</td>\n      <td>13.300000</td>\n      <td>19.700000</td>\n      <td>5.000000</td>\n      <td>7.100000</td>\n      <td>72.200000</td>\n      <td>5.700000</td>\n      <td>0.000000</td>\n      <td>0.400000</td>\n      <td>0.400000</td>\n      <td>2.000000</td>\n      <td>21.100000</td>\n      <td>1276.000000</td>\n      <td>75.200000</td>\n      <td>9.300000</td>\n      <td>3.500000</td>\n      <td>0.000000</td>\n      <td>3.900000</td>\n    </tr>\n    <tr>\n      <th>50%</th>\n      <td>2.804700e+10</td>\n      <td>NaN</td>\n      <td>NaN</td>\n      <td>4105.000000</td>\n      <td>2007.000000</td>\n      <td>2082.000000</td>\n      <td>7.400000</td>\n      <td>70.400000</td>\n      <td>3.80000</td>\n      <td>0.000000</td>\n      <td>1.500000</td>\n      <td>0.000000</td>\n      <td>2905.000000</td>\n      <td>54375.000000</td>\n      <td>8267.000000</td>\n      <td>27215.500000</td>\n      <td>3404.000000</td>\n      <td>12.600000</td>\n      <td>16.300000</td>\n      <td>33.300000</td>\n      <td>17.700000</td>\n      <td>23.200000</td>\n      <td>8.300000</td>\n      <td>11.800000</td>\n      <td>79.900000</td>\n      <td>8.500000</td>\n      <td>1.000000</td>\n      <td>1.400000</td>\n      <td>1.200000</td>\n      <td>3.800000</td>\n      <td>25.400000</td>\n      <td>1895.000000</td>\n      <td>80.600000</td>\n      <td>13.000000</td>\n      <td>5.500000</td>\n      <td>0.000000</td>\n      <td>6.000000</td>\n    </tr>\n    <tr>\n      <th>75%</th>\n      <td>4.200341e+10</td>\n      <td>NaN</td>\n      <td>NaN</td>\n      <td>5506.000000</td>\n      <td>2707.000000</td>\n      <td>2803.000000</td>\n      <td>21.100000</td>\n      <td>87.700000</td>\n      <td>14.60000</td>\n      <td>0.400000</td>\n      <td>5.000000</td>\n      <td>0.000000</td>\n      <td>3906.000000</td>\n      <td>74659.000000</td>\n      <td>11913.000000</td>\n      <td>36408.250000</td>\n      <td>4968.250000</td>\n      <td>21.800000</td>\n      <td>31.600000</td>\n      <td>44.900000</td>\n      <td>23.300000</td>\n      <td>26.900000</td>\n      <td>12.500000</td>\n      <td>17.500000</td>\n      <td>84.900000</td>\n      <td>11.900000</td>\n      <td>4.600000</td>\n      <td>3.300000</td>\n      <td>2.500000</td>\n      <td>6.300000</td>\n      <td>30.300000</td>\n      <td>2635.000000</td>\n      <td>85.000000</td>\n      <td>17.600000</td>\n      <td>8.000000</td>\n      <td>0.000000</td>\n      <td>9.000000</td>\n    </tr>\n    <tr>\n      <th>max</th>\n      <td>7.215375e+10</td>\n      <td>NaN</td>\n      <td>NaN</td>\n      <td>65528.000000</td>\n      <td>32266.000000</td>\n      <td>33262.000000</td>\n      <td>100.000000</td>\n      <td>100.000000</td>\n      <td>100.00000</td>\n      <td>100.000000</td>\n      <td>100.000000</td>\n      <td>71.900000</td>\n      <td>39389.000000</td>\n      <td>249750.000000</td>\n      <td>153365.000000</td>\n      <td>220253.000000</td>\n      <td>134017.000000</td>\n      <td>100.000000</td>\n      <td>100.000000</td>\n      <td>100.000000</td>\n      <td>100.000000</td>\n      <td>100.000000</td>\n      <td>100.000000</td>\n      <td>100.000000</td>\n      <td>100.000000</td>\n      <td>100.000000</td>\n      <td>100.000000</td>\n      <td>100.000000</td>\n      <td>100.000000</td>\n      <td>100.000000</td>\n      <td>73.900000</td>\n      <td>28945.000000</td>\n      <td>100.000000</td>\n      <td>100.000000</td>\n      <td>100.000000</td>\n      <td>22.300000</td>\n      <td>100.000000</td>\n    </tr>\n  </tbody>\n</table>\n</div>"
     },
     "metadata": {},
     "execution_count": 40
    }
   ],
   "source": [
    "df = pd.read_csv('./data/acs2017_census_tract_data.csv')\n",
    "\n",
    "pd.set_option('display.max_columns', None)\n",
    "df.describe(include='all')"
   ]
  },
  {
   "cell_type": "code",
   "execution_count": 41,
   "metadata": {},
   "outputs": [
    {
     "output_type": "execute_result",
     "data": {
      "text/plain": [
       "TractId               int64\n",
       "State                object\n",
       "County               object\n",
       "TotalPop              int64\n",
       "Men                   int64\n",
       "Women                 int64\n",
       "Hispanic            float64\n",
       "White               float64\n",
       "Black               float64\n",
       "Native              float64\n",
       "Asian               float64\n",
       "Pacific             float64\n",
       "VotingAgeCitizen      int64\n",
       "Income              float64\n",
       "IncomeErr           float64\n",
       "IncomePerCap        float64\n",
       "IncomePerCapErr     float64\n",
       "Poverty             float64\n",
       "ChildPoverty        float64\n",
       "Professional        float64\n",
       "Service             float64\n",
       "Office              float64\n",
       "Construction        float64\n",
       "Production          float64\n",
       "Drive               float64\n",
       "Carpool             float64\n",
       "Transit             float64\n",
       "Walk                float64\n",
       "OtherTransp         float64\n",
       "WorkAtHome          float64\n",
       "MeanCommute         float64\n",
       "Employed              int64\n",
       "PrivateWork         float64\n",
       "PublicWork          float64\n",
       "SelfEmployed        float64\n",
       "FamilyWork          float64\n",
       "Unemployment        float64\n",
       "dtype: object"
      ]
     },
     "metadata": {},
     "execution_count": 41
    }
   ],
   "source": [
    "df.dtypes"
   ]
  },
  {
   "cell_type": "markdown",
   "metadata": {},
   "source": [
    "### There are two columns of data required to transform into integers. I use LabelEncoder to encode the string data of State and County to integers and add them into the dataframe in the column \"State_C\" and \"County_C\" respectively."
   ]
  },
  {
   "cell_type": "code",
   "execution_count": 42,
   "metadata": {},
   "outputs": [
    {
     "output_type": "execute_result",
     "data": {
      "text/plain": [
       "      TractId    State          County  TotalPop   Men  Women  Hispanic  \\\n",
       "0  1001020100  Alabama  Autauga County      1845   899    946       2.4   \n",
       "1  1001020200  Alabama  Autauga County      2172  1167   1005       1.1   \n",
       "2  1001020300  Alabama  Autauga County      3385  1533   1852       8.0   \n",
       "3  1001020400  Alabama  Autauga County      4267  2001   2266       9.6   \n",
       "4  1001020500  Alabama  Autauga County      9965  5054   4911       0.9   \n",
       "\n",
       "   White  Black  Native  Asian  Pacific  VotingAgeCitizen   Income  IncomeErr  \\\n",
       "0   86.3    5.2     0.0    1.2      0.0              1407  67826.0    14560.0   \n",
       "1   41.6   54.5     0.0    1.0      0.0              1652  41287.0     3819.0   \n",
       "2   61.4   26.5     0.6    0.7      0.4              2480  46806.0     9496.0   \n",
       "3   80.3    7.1     0.5    0.2      0.0              3257  55895.0     4369.0   \n",
       "4   77.5   16.4     0.0    3.1      0.0              7229  68143.0    14424.0   \n",
       "\n",
       "   IncomePerCap  IncomePerCapErr  Poverty  ChildPoverty  Professional  \\\n",
       "0       33018.0           6294.0     10.7          20.8          38.5   \n",
       "1       18996.0           2453.0     22.4          35.8          30.5   \n",
       "2       21236.0           2562.0     14.7          21.1          27.9   \n",
       "3       28068.0           3190.0      2.3           1.7          29.0   \n",
       "4       36905.0          10706.0     12.2          17.9          48.8   \n",
       "\n",
       "   Service  Office  Construction  Production  Drive  Carpool  Transit  Walk  \\\n",
       "0     15.6    22.8          10.8        12.4   94.2      3.3      0.0   0.5   \n",
       "1     24.9    22.9           6.3        15.4   90.5      9.1      0.0   0.0   \n",
       "2     19.4    33.3           9.9         9.6   88.3      8.4      0.0   1.0   \n",
       "3     16.6    25.8           9.1        19.5   82.3     11.2      0.0   1.5   \n",
       "4     13.8    20.5           3.5        13.4   86.9     11.2      0.0   0.8   \n",
       "\n",
       "   OtherTransp  WorkAtHome  MeanCommute  Employed  PrivateWork  PublicWork  \\\n",
       "0          0.0         2.1         24.5       881         74.2        21.2   \n",
       "1          0.5         0.0         22.2       852         75.9        15.0   \n",
       "2          0.8         1.5         23.1      1482         73.3        21.1   \n",
       "3          2.9         2.1         25.9      1849         75.8        19.7   \n",
       "4          0.3         0.7         21.0      4787         71.4        24.1   \n",
       "\n",
       "   SelfEmployed  FamilyWork  Unemployment  State_C  County_C  \n",
       "0           4.5         0.0           4.6        0        89  \n",
       "1           9.0         0.0           3.4        0        89  \n",
       "2           4.8         0.7           4.7        0        89  \n",
       "3           4.5         0.0           6.1        0        89  \n",
       "4           4.5         0.0           2.3        0        89  "
      ],
      "text/html": "<div>\n<style scoped>\n    .dataframe tbody tr th:only-of-type {\n        vertical-align: middle;\n    }\n\n    .dataframe tbody tr th {\n        vertical-align: top;\n    }\n\n    .dataframe thead th {\n        text-align: right;\n    }\n</style>\n<table border=\"1\" class=\"dataframe\">\n  <thead>\n    <tr style=\"text-align: right;\">\n      <th></th>\n      <th>TractId</th>\n      <th>State</th>\n      <th>County</th>\n      <th>TotalPop</th>\n      <th>Men</th>\n      <th>Women</th>\n      <th>Hispanic</th>\n      <th>White</th>\n      <th>Black</th>\n      <th>Native</th>\n      <th>Asian</th>\n      <th>Pacific</th>\n      <th>VotingAgeCitizen</th>\n      <th>Income</th>\n      <th>IncomeErr</th>\n      <th>IncomePerCap</th>\n      <th>IncomePerCapErr</th>\n      <th>Poverty</th>\n      <th>ChildPoverty</th>\n      <th>Professional</th>\n      <th>Service</th>\n      <th>Office</th>\n      <th>Construction</th>\n      <th>Production</th>\n      <th>Drive</th>\n      <th>Carpool</th>\n      <th>Transit</th>\n      <th>Walk</th>\n      <th>OtherTransp</th>\n      <th>WorkAtHome</th>\n      <th>MeanCommute</th>\n      <th>Employed</th>\n      <th>PrivateWork</th>\n      <th>PublicWork</th>\n      <th>SelfEmployed</th>\n      <th>FamilyWork</th>\n      <th>Unemployment</th>\n      <th>State_C</th>\n      <th>County_C</th>\n    </tr>\n  </thead>\n  <tbody>\n    <tr>\n      <th>0</th>\n      <td>1001020100</td>\n      <td>Alabama</td>\n      <td>Autauga County</td>\n      <td>1845</td>\n      <td>899</td>\n      <td>946</td>\n      <td>2.4</td>\n      <td>86.3</td>\n      <td>5.2</td>\n      <td>0.0</td>\n      <td>1.2</td>\n      <td>0.0</td>\n      <td>1407</td>\n      <td>67826.0</td>\n      <td>14560.0</td>\n      <td>33018.0</td>\n      <td>6294.0</td>\n      <td>10.7</td>\n      <td>20.8</td>\n      <td>38.5</td>\n      <td>15.6</td>\n      <td>22.8</td>\n      <td>10.8</td>\n      <td>12.4</td>\n      <td>94.2</td>\n      <td>3.3</td>\n      <td>0.0</td>\n      <td>0.5</td>\n      <td>0.0</td>\n      <td>2.1</td>\n      <td>24.5</td>\n      <td>881</td>\n      <td>74.2</td>\n      <td>21.2</td>\n      <td>4.5</td>\n      <td>0.0</td>\n      <td>4.6</td>\n      <td>0</td>\n      <td>89</td>\n    </tr>\n    <tr>\n      <th>1</th>\n      <td>1001020200</td>\n      <td>Alabama</td>\n      <td>Autauga County</td>\n      <td>2172</td>\n      <td>1167</td>\n      <td>1005</td>\n      <td>1.1</td>\n      <td>41.6</td>\n      <td>54.5</td>\n      <td>0.0</td>\n      <td>1.0</td>\n      <td>0.0</td>\n      <td>1652</td>\n      <td>41287.0</td>\n      <td>3819.0</td>\n      <td>18996.0</td>\n      <td>2453.0</td>\n      <td>22.4</td>\n      <td>35.8</td>\n      <td>30.5</td>\n      <td>24.9</td>\n      <td>22.9</td>\n      <td>6.3</td>\n      <td>15.4</td>\n      <td>90.5</td>\n      <td>9.1</td>\n      <td>0.0</td>\n      <td>0.0</td>\n      <td>0.5</td>\n      <td>0.0</td>\n      <td>22.2</td>\n      <td>852</td>\n      <td>75.9</td>\n      <td>15.0</td>\n      <td>9.0</td>\n      <td>0.0</td>\n      <td>3.4</td>\n      <td>0</td>\n      <td>89</td>\n    </tr>\n    <tr>\n      <th>2</th>\n      <td>1001020300</td>\n      <td>Alabama</td>\n      <td>Autauga County</td>\n      <td>3385</td>\n      <td>1533</td>\n      <td>1852</td>\n      <td>8.0</td>\n      <td>61.4</td>\n      <td>26.5</td>\n      <td>0.6</td>\n      <td>0.7</td>\n      <td>0.4</td>\n      <td>2480</td>\n      <td>46806.0</td>\n      <td>9496.0</td>\n      <td>21236.0</td>\n      <td>2562.0</td>\n      <td>14.7</td>\n      <td>21.1</td>\n      <td>27.9</td>\n      <td>19.4</td>\n      <td>33.3</td>\n      <td>9.9</td>\n      <td>9.6</td>\n      <td>88.3</td>\n      <td>8.4</td>\n      <td>0.0</td>\n      <td>1.0</td>\n      <td>0.8</td>\n      <td>1.5</td>\n      <td>23.1</td>\n      <td>1482</td>\n      <td>73.3</td>\n      <td>21.1</td>\n      <td>4.8</td>\n      <td>0.7</td>\n      <td>4.7</td>\n      <td>0</td>\n      <td>89</td>\n    </tr>\n    <tr>\n      <th>3</th>\n      <td>1001020400</td>\n      <td>Alabama</td>\n      <td>Autauga County</td>\n      <td>4267</td>\n      <td>2001</td>\n      <td>2266</td>\n      <td>9.6</td>\n      <td>80.3</td>\n      <td>7.1</td>\n      <td>0.5</td>\n      <td>0.2</td>\n      <td>0.0</td>\n      <td>3257</td>\n      <td>55895.0</td>\n      <td>4369.0</td>\n      <td>28068.0</td>\n      <td>3190.0</td>\n      <td>2.3</td>\n      <td>1.7</td>\n      <td>29.0</td>\n      <td>16.6</td>\n      <td>25.8</td>\n      <td>9.1</td>\n      <td>19.5</td>\n      <td>82.3</td>\n      <td>11.2</td>\n      <td>0.0</td>\n      <td>1.5</td>\n      <td>2.9</td>\n      <td>2.1</td>\n      <td>25.9</td>\n      <td>1849</td>\n      <td>75.8</td>\n      <td>19.7</td>\n      <td>4.5</td>\n      <td>0.0</td>\n      <td>6.1</td>\n      <td>0</td>\n      <td>89</td>\n    </tr>\n    <tr>\n      <th>4</th>\n      <td>1001020500</td>\n      <td>Alabama</td>\n      <td>Autauga County</td>\n      <td>9965</td>\n      <td>5054</td>\n      <td>4911</td>\n      <td>0.9</td>\n      <td>77.5</td>\n      <td>16.4</td>\n      <td>0.0</td>\n      <td>3.1</td>\n      <td>0.0</td>\n      <td>7229</td>\n      <td>68143.0</td>\n      <td>14424.0</td>\n      <td>36905.0</td>\n      <td>10706.0</td>\n      <td>12.2</td>\n      <td>17.9</td>\n      <td>48.8</td>\n      <td>13.8</td>\n      <td>20.5</td>\n      <td>3.5</td>\n      <td>13.4</td>\n      <td>86.9</td>\n      <td>11.2</td>\n      <td>0.0</td>\n      <td>0.8</td>\n      <td>0.3</td>\n      <td>0.7</td>\n      <td>21.0</td>\n      <td>4787</td>\n      <td>71.4</td>\n      <td>24.1</td>\n      <td>4.5</td>\n      <td>0.0</td>\n      <td>2.3</td>\n      <td>0</td>\n      <td>89</td>\n    </tr>\n  </tbody>\n</table>\n</div>"
     },
     "metadata": {},
     "execution_count": 42
    }
   ],
   "source": [
    "df['State_C'] = LabelEncoder().fit_transform(df['State'])\n",
    "df['County_C'] = LabelEncoder().fit_transform(df['County'])\n",
    "\n",
    "df.head()"
   ]
  },
  {
   "cell_type": "markdown",
   "metadata": {},
   "source": [
    "### To check if there are NA in this dataset"
   ]
  },
  {
   "cell_type": "code",
   "execution_count": 43,
   "metadata": {},
   "outputs": [
    {
     "output_type": "stream",
     "name": "stdout",
     "text": [
      "TractId                0\nState                  0\nCounty                 0\nTotalPop               0\nMen                    0\nWomen                  0\nHispanic             696\nWhite                696\nBlack                696\nNative               696\nAsian                696\nPacific              696\nVotingAgeCitizen       0\nIncome              1116\nIncomeErr           1116\nIncomePerCap         745\nIncomePerCapErr      745\nPoverty              842\nChildPoverty        1110\nProfessional         811\nService              811\nOffice               811\nConstruction         811\nProduction           811\nDrive                801\nCarpool              801\nTransit              801\nWalk                 801\nOtherTransp          801\nWorkAtHome           801\nMeanCommute          946\nEmployed               0\nPrivateWork          811\nPublicWork           811\nSelfEmployed         811\nFamilyWork           811\nUnemployment         810\nState_C                0\nCounty_C               0\ndtype: int64\n"
     ]
    }
   ],
   "source": [
    "print(df.isna().sum())"
   ]
  },
  {
   "cell_type": "code",
   "execution_count": 44,
   "metadata": {},
   "outputs": [
    {
     "output_type": "stream",
     "name": "stdout",
     "text": [
      "TractId             0\nState               0\nCounty              0\nTotalPop            0\nMen                 0\nWomen               0\nHispanic            0\nWhite               0\nBlack               0\nNative              0\nAsian               0\nPacific             0\nVotingAgeCitizen    0\nIncome              0\nIncomeErr           0\nIncomePerCap        0\nIncomePerCapErr     0\nPoverty             0\nChildPoverty        0\nProfessional        0\nService             0\nOffice              0\nConstruction        0\nProduction          0\nDrive               0\nCarpool             0\nTransit             0\nWalk                0\nOtherTransp         0\nWorkAtHome          0\nMeanCommute         0\nEmployed            0\nPrivateWork         0\nPublicWork          0\nSelfEmployed        0\nFamilyWork          0\nUnemployment        0\nState_C             0\nCounty_C            0\ndtype: int64\n"
     ]
    }
   ],
   "source": [
    "# drop the rows contained NA data. \n",
    "df = df.dropna()\n",
    "print(df.isna().sum())"
   ]
  },
  {
   "cell_type": "markdown",
   "metadata": {},
   "source": [
    "### I divide the column \"ChildPoverty\" into 4 balanced classes by quantile and set it up as column \"ChildPoverty_C\" in the dataframe."
   ]
  },
  {
   "cell_type": "code",
   "execution_count": 45,
   "metadata": {},
   "outputs": [
    {
     "output_type": "execute_result",
     "data": {
      "text/plain": [
       "array([18509, 17926, 18256, 18027])"
      ]
     },
     "metadata": {},
     "execution_count": 45
    }
   ],
   "source": [
    "df['ChildPoverty_C'] = pd.qcut(df.Production,[0,.25,.5,.75,1],labels=(0,1,2,3))\n",
    "np.bincount(df['ChildPoverty_C'])"
   ]
  },
  {
   "cell_type": "code",
   "execution_count": 46,
   "metadata": {},
   "outputs": [
    {
     "output_type": "stream",
     "name": "stdout",
     "text": [
      "<class 'pandas.core.frame.DataFrame'>\nInt64Index: 72718 entries, 0 to 74000\nData columns (total 37 columns):\n #   Column            Non-Null Count  Dtype   \n---  ------            --------------  -----   \n 0   TractId           72718 non-null  int64   \n 1   TotalPop          72718 non-null  int64   \n 2   Men               72718 non-null  int64   \n 3   Women             72718 non-null  int64   \n 4   Hispanic          72718 non-null  float64 \n 5   White             72718 non-null  float64 \n 6   Black             72718 non-null  float64 \n 7   Native            72718 non-null  float64 \n 8   Asian             72718 non-null  float64 \n 9   Pacific           72718 non-null  float64 \n 10  VotingAgeCitizen  72718 non-null  int64   \n 11  Income            72718 non-null  float64 \n 12  IncomeErr         72718 non-null  float64 \n 13  IncomePerCap      72718 non-null  float64 \n 14  IncomePerCapErr   72718 non-null  float64 \n 15  Poverty           72718 non-null  float64 \n 16  Professional      72718 non-null  float64 \n 17  Service           72718 non-null  float64 \n 18  Office            72718 non-null  float64 \n 19  Construction      72718 non-null  float64 \n 20  Production        72718 non-null  float64 \n 21  Drive             72718 non-null  float64 \n 22  Carpool           72718 non-null  float64 \n 23  Transit           72718 non-null  float64 \n 24  Walk              72718 non-null  float64 \n 25  OtherTransp       72718 non-null  float64 \n 26  WorkAtHome        72718 non-null  float64 \n 27  MeanCommute       72718 non-null  float64 \n 28  Employed          72718 non-null  int64   \n 29  PrivateWork       72718 non-null  float64 \n 30  PublicWork        72718 non-null  float64 \n 31  SelfEmployed      72718 non-null  float64 \n 32  FamilyWork        72718 non-null  float64 \n 33  Unemployment      72718 non-null  float64 \n 34  State_C           72718 non-null  int64   \n 35  County_C          72718 non-null  int64   \n 36  ChildPoverty_C    72718 non-null  category\ndtypes: category(1), float64(28), int64(8)\nmemory usage: 20.6 MB\n"
     ]
    }
   ],
   "source": [
    "df1 = df.drop(['State','County','ChildPoverty'],axis=1)\n",
    "df1.info()"
   ]
  },
  {
   "cell_type": "code",
   "execution_count": 47,
   "metadata": {},
   "outputs": [],
   "source": [
    "y = np.array(df1['ChildPoverty_C'])\n",
    "df1.drop(['ChildPoverty_C'],axis=1,inplace=True)\n",
    "X = np.array(df1)"
   ]
  },
  {
   "cell_type": "code",
   "execution_count": 48,
   "metadata": {},
   "outputs": [
    {
     "output_type": "stream",
     "name": "stdout",
     "text": [
      "X.shape: (72718, 36)\ny.shape: (72718,)\nn_samples: 72718\nn_features 36\n"
     ]
    }
   ],
   "source": [
    "print('X.shape:',X.shape)\n",
    "print('y.shape:',y.shape)\n",
    "\n",
    "n_features = X.shape[1]\n",
    "n_samples = X.shape[0]\n",
    "\n",
    "print('n_samples:',n_samples)\n",
    "print('n_features',n_features)"
   ]
  },
  {
   "cell_type": "markdown",
   "metadata": {},
   "source": [
    "## Split the dataset into 80% for training and 20% for testing.\n",
    "I have did the dataset balancing first, so here I did not do it respectively for training and testing set."
   ]
  },
  {
   "cell_type": "code",
   "execution_count": 49,
   "metadata": {},
   "outputs": [],
   "source": [
    "X_train, X_test, y_train, y_test = train_test_split(X,y,test_size=0.2, train_size=0.8)\n"
   ]
  },
  {
   "cell_type": "code",
   "execution_count": 50,
   "metadata": {},
   "outputs": [
    {
     "output_type": "stream",
     "name": "stdout",
     "text": [
      "X_train (58174, 36)\nX_test (14544, 36)\ny_train (58174,)\ny_test (14544,)\n"
     ]
    }
   ],
   "source": [
    "print(\"X_train\",X_train.shape)\n",
    "print(\"X_test\",X_test.shape)\n",
    "print(\"y_train\",y_train.shape)\n",
    "print(\"y_test\",y_test.shape)"
   ]
  },
  {
   "cell_type": "markdown",
   "metadata": {},
   "source": [
    "## Should balancing of the dataset be done for both the training and testing set?\n",
    "\n",
    "It's not necessary to do balancing on the testing dataset because testing set is used for evaluating learning capability of the model. It's critical to have a balanced dataset for training set so that the model could maximize its possibility to learn plenty of details from the training data."
   ]
  },
  {
   "cell_type": "markdown",
   "metadata": {},
   "source": [
    "## 2.Pre-processing\n",
    "\n",
    "There are a number of version of the two layer perceptron covered in class. When using the example two layer network from class be sure that you use: (1) vectorized computation, (2) mini-batching, and (3) proper Glorot initialization, at a minimum.  \n",
    "\n",
    "- [.5 points] Use the example two-layer perceptron network from the class example and quantify performance using accuracy. Do not normalize or one-hot encode the data (not yet). Be sure that training converges by graphing the loss function versus the number of epochs. \n",
    "- [.5 points] Now normalize the continuous numeric feature data. Use the example two-layer perceptron network from the class example and quantify performance using accuracy. Be sure that training converges by graphing the loss function versus the number of epochs.  \n",
    "- [.5 points] Now normalize the continuous numeric feature data AND one hot encode the categorical data. Use the example two-layer perceptron network from the class example and quantify performance using accuracy. Be sure that training converges by graphing the loss function versus the number of epochs. \n",
    "- [1 points] Compare the performance of the three models you just trained. Are there any meaningful differences in performance? Explain, in your own words, why these models have (or do not have) different performances.  \n",
    "    - Use one-hot encoding and normalization on the dataset for the remainder of this lab assignment."
   ]
  },
  {
   "cell_type": "code",
   "execution_count": 51,
   "metadata": {},
   "outputs": [],
   "source": [
    "class TwoLayerPerceptronBase(object):\n",
    "    def __init__(self, n_hidden=30,\n",
    "                 l2=0.0, epochs=500, eta=0.001, random_state=None, onehot=True, alpha=0.1, decrease_const=0.0, shuffle=True, minibatches=1):\n",
    "        np.random.seed(random_state)\n",
    "        self.n_hidden = n_hidden\n",
    "        self.l2_C = l2\n",
    "        self.epochs = epochs\n",
    "        self.eta = eta\n",
    "        self.onehot = onehot\n",
    "        self.alpha = alpha\n",
    "        self.decrease_const = decrease_const\n",
    "        self.shuffle = shuffle\n",
    "        self.minibatches = minibatches\n",
    "        \n",
    "    def _encode_labels(self,y):\n",
    "        \"\"\"Encode labels into one-hot representation\"\"\"\n",
    "        if self.onehot:\n",
    "            return pd.get_dummies(y).values.T\n",
    "        else:\n",
    "            return y[np.newaxis]\n",
    "\n",
    "    def _initialize_weights(self):\n",
    "        \"\"\"Initialize weights Glorot and He normalization.\"\"\"\n",
    "        init_bound = 4*np.sqrt(6. / (self.n_hidden + self.n_features_ + 1))\n",
    "        W1 = np.random.uniform(-init_bound, init_bound,(self.n_hidden, self.n_features_ + 1))\n",
    "        W1[:,:1] = 0\n",
    "        \n",
    "        # reduce the final layer magnitude in order to balance the size of the gradients\n",
    "        # between \n",
    "        init_bound = 4*np.sqrt(6 / (self.n_output_ + self.n_hidden + 1))\n",
    "        W2 = np.random.uniform(-init_bound, init_bound,(self.n_output_, self.n_hidden + 1)) \n",
    "        W2[:,:1] = 0\n",
    "        \n",
    "        return W1, W2\n",
    "    \n",
    "    @staticmethod\n",
    "    def _sigmoid(z):\n",
    "        \"\"\"Use scipy.special.expit to avoid overflow\"\"\"\n",
    "        # 1.0 / (1.0 + np.exp(-z))\n",
    "        return expit(z)\n",
    "    \n",
    "    @staticmethod\n",
    "    def _add_bias_unit(X, how='column'):\n",
    "        \"\"\"Add bias unit (column or row of 1s) to array at index 0\"\"\"\n",
    "        if how == 'column':\n",
    "            ones = np.ones((X.shape[0], 1))\n",
    "            X_new = np.hstack((ones, X))\n",
    "        elif how == 'row':\n",
    "            ones = np.ones((1, X.shape[1]))\n",
    "            X_new = np.vstack((ones, X))\n",
    "        return X_new\n",
    "    \n",
    "    @staticmethod\n",
    "    def _L2_reg(lambda_, W1, W2):\n",
    "        \"\"\"Compute L2-regularization cost\"\"\"\n",
    "        # only compute for non-bias terms\n",
    "        return (lambda_) * np.sqrt(np.mean(W1[:, 1:] ** 2) + np.mean(W2[:, 1:] ** 2))\n",
    "    \n",
    "    def _cost(self,A3,Y_enc,W1,W2):\n",
    "        '''Get the objective function value'''\n",
    "        cost = np.mean((Y_enc-A3)**2)\n",
    "        L2_term = self._L2_reg(self.l2_C, W1, W2)\n",
    "        return cost + L2_term\n",
    "\n",
    "    def graph_loss_function(self):\n",
    "        cost_avgs = [np.mean(x) for x in self.cost_]\n",
    "        plt.plot(range(len(cost_avgs)), cost_avgs, color='red')\n",
    "        plt.ylabel('Cost')\n",
    "        plt.xlabel('Epochs')\n",
    "        plt.tight_layout()\n",
    "        plt.show()"
   ]
  },
  {
   "cell_type": "code",
   "execution_count": 52,
   "metadata": {},
   "outputs": [],
   "source": [
    "class TwoLayerPerceptron(TwoLayerPerceptronBase):\n",
    "    def _feedforward(self, X, W1, W2):\n",
    "        \"\"\"Compute feedforward step\n",
    "        -----------\n",
    "        X : Input layer with original features.\n",
    "        W1: Weight matrix for input layer -> hidden layer.\n",
    "        W2: Weight matrix for hidden layer -> output layer.\n",
    "        ----------\n",
    "        a1-a3 : activations into layer (or output layer)\n",
    "        z1-z2 : layer inputs \n",
    "\n",
    "        \"\"\"\n",
    "        A1 = self._add_bias_unit(X.T, how='row')\n",
    "        Z1 = W1 @ A1\n",
    "        A2 = self._sigmoid(Z1)\n",
    "        A2 = self._add_bias_unit(A2, how='row')\n",
    "        Z2 = W2 @ A2\n",
    "        A3 = self._sigmoid(Z2)\n",
    "\n",
    "        # print('A1.shape: ',A1.shape)\n",
    "        # print('W1.shape: ',W1.shape)\n",
    "        # print('Z1.shape: ',Z1.shape)\n",
    "        # print('A2.shape: ',A2.shape)\n",
    "        # print('W2.shape: ',W2.shape)\n",
    "        # print('Z2.shape: ',Z2.shape)\n",
    "        # print('A3.shape: ',A3.shape)\n",
    "\n",
    "        return A1, Z1, A2, Z2, A3\n",
    "    \n",
    "    def _get_gradient(self, A1, A2, A3, Z1, Z2, Y_enc, W1, W2):\n",
    "        \"\"\" Compute gradient step using backpropagation.\n",
    "        \"\"\"\n",
    "        # vectorized backpropagation\n",
    "        V2 = -2*(Y_enc-A3)*A3*(1-A3)\n",
    "        V1 = A2*(1-A2)*(W2.T @ V2)\n",
    "        \n",
    "        grad2 = V2 @ A2.T\n",
    "        grad1 = V1[1:,:] @ A1.T\n",
    "        \n",
    "        # regularize weights that are not bias terms\n",
    "        grad1[:, 1:] += W1[:, 1:] * self.l2_C\n",
    "        grad2[:, 1:] += W2[:, 1:] * self.l2_C\n",
    "\n",
    "        return grad1, grad2\n",
    "    \n",
    "    def predict(self, X):\n",
    "        \"\"\"Predict class labels\"\"\"\n",
    "        _, _, _, _, A3 = self._feedforward(X, self.W1, self.W2)\n",
    "        y_pred = np.argmax(A3, axis=0)\n",
    "        return y_pred\n",
    "    \n",
    "    \n",
    "    def fit(self, X, y, print_progress=False):\n",
    "        \"\"\" Learn weights from training data.\"\"\"\n",
    "        X_data, y_data = X.copy(), y.copy()\n",
    "        Y_enc = self._encode_labels(y)\n",
    "        \n",
    "        # init weights and setup matrices\n",
    "        self.n_features_ = X_data.shape[1]\n",
    "        self.n_output_ = Y_enc.shape[0]\n",
    "        self.W1, self.W2 = self._initialize_weights()\n",
    "        \n",
    "        # start momentum at zero for previous updates\n",
    "        rho_W1_prev = np.zeros(self.W1.shape) # for momentum\n",
    "        rho_W2_prev = np.zeros(self.W2.shape) # for momentum\n",
    "\n",
    "        self.cost_ = []\n",
    "        for i in range(self.epochs):\n",
    "\n",
    "            # adaptive learning rate\n",
    "            eta = self.eta / (1 + self.decrease_const*i) # decreasing learning rate\n",
    "            # there are many forms of adaptive learning rates out there!\n",
    "\n",
    "            if print_progress>0 and (i+1)%print_progress==0:\n",
    "                sys.stderr.write('\\rEpoch: %d/%d' % (i+1, self.epochs))\n",
    "                sys.stderr.flush()\n",
    "\n",
    "            if self.shuffle:\n",
    "                ridx = np.random.permutation(y_data.shape[0])\n",
    "                X_data, Y_enc = X_data[ridx], Y_enc[:, ridx]\n",
    "\n",
    "            # use numpy split to split into equal sized batches \n",
    "            # num batches== self.minibatches\n",
    "            mini = np.array_split(range(y_data.shape[0]), self.minibatches)\n",
    "            mini_cost = []\n",
    "            for idx in mini:\n",
    "\n",
    "                # feedforward\n",
    "                A1, Z1, A2, Z2, A3 = self._feedforward(X_data[idx],\n",
    "                                                       self.W1,\n",
    "                                                       self.W2)\n",
    "                \n",
    "                cost = self._cost(A3,Y_enc[:, idx],self.W1,self.W2)\n",
    "                mini_cost.append(cost) # this appends cost of mini-batch only\n",
    "\n",
    "                # compute gradient via backpropagation\n",
    "                grad1, grad2 = self._get_gradient(A1=A1, A2=A2, A3=A3, Z1=Z1, Z2=Z2,\n",
    "                                                  Y_enc=Y_enc[:, idx],\n",
    "                                                  W1=self.W1, W2=self.W2)\n",
    "\n",
    "                rho_W1, rho_W2 = eta * grad1, eta * grad2\n",
    "                self.W1 -= (rho_W1 + (self.alpha * rho_W1_prev)) # update with momentum\n",
    "                self.W2 -= (rho_W2 + (self.alpha * rho_W2_prev)) # update with momentum\n",
    "                rho_W1_prev, rho_W2_prev = rho_W1, rho_W2\n",
    "\n",
    "            self.cost_.append(mini_cost)\n"
   ]
  },
  {
   "source": [
    "### 2.1 Use the example two-layer perceptron network from the class example and quantify performance using accuracy. Do not normalize or one-hot encode the data (not yet). Be sure that training converges by graphing the loss function versus the number of epochs."
   ],
   "cell_type": "markdown",
   "metadata": {}
  },
  {
   "cell_type": "code",
   "execution_count": 53,
   "metadata": {},
   "outputs": [],
   "source": [
    "params = dict(n_hidden=300, \n",
    "              l2=0.0, # tradeoff L2 regularizer\n",
    "              epochs=200, # iterations\n",
    "              eta=1e-2,  # learning rate\n",
    "              random_state=1,\n",
    "              onehot=False,\n",
    "              alpha=1e-2,\n",
    "              decrease_const=0.1,\n",
    "              minibatches=len(X_train)/32,\n",
    "              shuffle=True\n",
    "              )"
   ]
  },
  {
   "cell_type": "code",
   "execution_count": 54,
   "metadata": {
    "tags": []
   },
   "outputs": [
    {
     "output_type": "stream",
     "name": "stderr",
     "text": [
      "Epoch: 500/500\n",
      "Accuracy: 0.25563806380638066\n"
     ]
    },
    {
     "output_type": "display_data",
     "data": {
      "text/plain": "<Figure size 432x288 with 1 Axes>",
      "image/png": "[encoded data removed]"
     },
     "metadata": {
      "image/png": {
       "width": 424,
       "height": 279
      },
      "needs_background": "light"
     }
    },
    {
     "output_type": "stream",
     "name": "stdout",
     "text": [
      "CPU times: user 33min 30s, sys: 4min 27s, total: 37min 57s\nWall time: 4min 53s\n"
     ]
    }
   ],
   "source": [
    "%%time\n",
    "nn1 = TwoLayerPerceptron(**params)\n",
    "nn1.fit(X_train, y_train, print_progress=1)\n",
    "print()\n",
    "print('Accuracy:',accuracy_score(y_test,nn1.predict(X_test)))\n",
    "nn1.graph_loss_function()"
   ]
  },
  {
   "source": [
    "### 2.2 Now normalize the continuous numeric feature data. Use the example two-layer perceptron network from the class example and quantify performance using accuracy. Be sure that training converges by graphing the loss function versus the number of epochs."
   ],
   "cell_type": "markdown",
   "metadata": {}
  },
  {
   "cell_type": "code",
   "execution_count": 55,
   "metadata": {},
   "outputs": [
    {
     "output_type": "stream",
     "name": "stderr",
     "text": [
      "Epoch: 300/300\n",
      "Accuracy: 0.25563806380638066\n"
     ]
    },
    {
     "output_type": "display_data",
     "data": {
      "text/plain": "<Figure size 432x288 with 1 Axes>",
      "image/png": "[encoded data removed]"
     },
     "metadata": {
      "image/png": {
       "width": 424,
       "height": 279
      },
      "needs_background": "light"
     }
    },
    {
     "output_type": "stream",
     "name": "stdout",
     "text": [
      "CPU times: user 20min 5s, sys: 2min 39s, total: 22min 45s\nWall time: 2min 55s\n"
     ]
    }
   ],
   "source": [
    "%%time\n",
    "params['epochs'] = 300\n",
    "params['l2']=1e-2\n",
    "nn2 = TwoLayerPerceptron(**params)\n",
    "nn2.fit(X_train, y_train, print_progress=1)\n",
    "print()\n",
    "print('Accuracy:',accuracy_score(y_test,nn2.predict(X_test)))\n",
    "nn2.graph_loss_function()"
   ]
  },
  {
   "source": [
    "### 2.3 Now normalize the continuous numeric feature data AND one hot encode the categorical data. Use the example two-layer perceptron network from the class example and quantify performance using accuracy. Be sure that training converges by graphing the loss function versus the number of epochs."
   ],
   "cell_type": "markdown",
   "metadata": {}
  },
  {
   "cell_type": "code",
   "execution_count": 56,
   "metadata": {},
   "outputs": [
    {
     "output_type": "stream",
     "name": "stderr",
     "text": [
      "Epoch: 300/300\n",
      "Accuracy: 0.24456820682068206\n"
     ]
    },
    {
     "output_type": "display_data",
     "data": {
      "text/plain": "<Figure size 432x288 with 1 Axes>",
      "image/png": "[encoded data removed]"
     },
     "metadata": {
      "image/png": {
       "width": 424,
       "height": 279
      },
      "needs_background": "light"
     }
    },
    {
     "output_type": "stream",
     "name": "stdout",
     "text": [
      "CPU times: user 22min 47s, sys: 2min 51s, total: 25min 38s\nWall time: 3min 17s\n"
     ]
    }
   ],
   "source": [
    "%%time\n",
    "params['epochs'] = 300\n",
    "params['onehot']=True\n",
    "nn3 = TwoLayerPerceptron(**params)\n",
    "nn3.fit(X_train, y_train, print_progress=1)\n",
    "print()\n",
    "print('Accuracy:',accuracy_score(y_test,nn3.predict(X_test)))\n",
    "nn3.graph_loss_function()"
   ]
  },
  {
   "source": [
    "### 2.4 Compare the performance of the three models you just trained. Are there any meaningful differences in performance? Explain, in your own words, why these models have (or do not have) different performances.(Need to use statistical method)"
   ],
   "cell_type": "markdown",
   "metadata": {}
  },
  {
   "cell_type": "code",
   "execution_count": null,
   "metadata": {},
   "outputs": [],
   "source": []
  },
  {
   "cell_type": "markdown",
   "metadata": {},
   "source": [
    "## 3.Modeling\n",
    "\n",
    "- [1 points] Add support for a third layer in the multi-layer perceptron. Add support for saving (and plotting after training is completed) the average magnitude of the gradient for each layer, for each epoch. For magnitude calculation, you are free to use either the average absolute values or the L1/L2 norm. Quantify the performance of the model and graph the magnitudes for each layer versus the number of epochs.\n",
    "- [1 points] Repeat the previous step, adding support for a fourth layer.\n",
    "- [1 points] Repeat the previous step, adding support for a fifth layer. \n",
    "- [2 points] Implement an adaptive learning technique that was discussed in lecture and use it on the five layer network. Compare the performance of this model with and without the adaptive learning strategy. Do not use AdaM for the adaptive learning technique. \n"
   ]
  },
  {
   "cell_type": "code",
   "execution_count": null,
   "metadata": {},
   "outputs": [],
   "source": []
  },
  {
   "cell_type": "code",
   "execution_count": 57,
   "metadata": {},
   "outputs": [],
   "source": [
    "class ThreeLayerPerceptron(TwoLayerPerceptron):\n",
    "    def _initialize_weights(self):\n",
    "        \"\"\"Initialize weights Glorot and He normalization.\"\"\"\n",
    "        init_bound = 4*np.sqrt(6. / (self.n_hidden + self.n_features_ + 1))\n",
    "        W1 = np.random.uniform(-init_bound, init_bound,(self.n_hidden, self.n_features_ + 1))\n",
    "        W1[:,:1] = 0\n",
    "        \n",
    "        init_bound = 4*np.sqrt(6. / (self.n_hidden + self.n_hidden + 1))\n",
    "        W2 = np.random.uniform(-init_bound, init_bound,(self.n_hidden, self.n_hidden + 1))\n",
    "        W2[:,:1] = 0\n",
    "\n",
    "        # reduce the final layer magnitude in order to balance the size of the gradients\n",
    "        # between \n",
    "        init_bound = 4*np.sqrt(6 / (self.n_output_ + self.n_hidden + 1))\n",
    "        W3 = np.random.uniform(-init_bound, init_bound,(self.n_output_, self.n_hidden + 1)) \n",
    "        W3[:,:1] = 0\n",
    "        \n",
    "        return W1, W2\n",
    "\n",
    "    @staticmethod\n",
    "    def _L2_reg(lambda_, W1, W2, W3):\n",
    "        \"\"\"Compute L2-regularization cost\"\"\"\n",
    "        # only compute for non-bias terms\n",
    "        return (lambda_/2.0) * np.sqrt(np.mean(W1[:, 1:] ** 2) + np.mean(W2[:, 1:] ** 2)+ np.mean(W3[:,1:]**2))\n",
    "\n",
    "\n",
    "    def _feedforward(self, X, W1, W2, W3):\n",
    "        A1 = self._add_bias_unit(X.T, how='row')\n",
    "        Z1 = W1 @ A1\n",
    "        A2 = self._sigmoid(Z1)\n",
    "        A2 = self._add_bias_unit(A2, how='row')\n",
    "        Z2 = W2 @ A2\n",
    "        A3 = self._sigmoid(Z2)\n",
    "        A3 = self._add_bias_unit(A3, how='row')\n",
    "        Z3 = W3 @ A2\n",
    "        A4 = self._sigmoid(Z3)\n",
    "        return A1, Z1, A2, Z2, A3 , Z3, A4\n",
    "\n",
    "\n",
    "    def predict(self, X):\n",
    "        \"\"\"Predict class labels\"\"\"\n",
    "        _, _, _, _, _, _, A4 = self._feedforward(X, self.W1, self.W2, self.W3)\n",
    "        y_pred = np.argmax(A4, axis=0)\n",
    "        return y_pred\n"
   ]
  },
  {
   "cell_type": "code",
   "execution_count": null,
   "metadata": {},
   "outputs": [],
   "source": []
  },
  {
   "cell_type": "code",
   "execution_count": null,
   "metadata": {},
   "outputs": [],
   "source": []
  },
  {
   "cell_type": "code",
   "execution_count": null,
   "metadata": {},
   "outputs": [],
   "source": []
  },
  {
   "cell_type": "code",
   "execution_count": 58,
   "metadata": {},
   "outputs": [],
   "source": [
    "class FourLayerPerceptron(TwoLayerPerceptronBase):\n",
    "    def _feedforward(self, X, W1, W2, W3, W4):\n",
    "        A1 = self._add_bias_unit(X.T, how='row')\n",
    "        Z1 = W1 @ A1\n",
    "        A2 = self._sigmoid(Z1)\n",
    "        A2 = self._add_bias_unit(A2, how='row')\n",
    "        Z2 = W2 @ A2\n",
    "        A3 = self._sigmoid(Z2)\n",
    "        A3 = self._add_bias_unit(A3, how='row')\n",
    "        Z3 = W3 @ A2\n",
    "        A4 = self._sigmoid(Z3)\n",
    "        A4 = self._add_bias_unit(A4, how='row')\n",
    "        Z4 = W4 @ A4\n",
    "        A5 = self._sigmoid(Z4)\n",
    "        return A1, Z1, A2, Z2, A3,Z3, A4, Z4, A5\n",
    "\n",
    "    def predict(self, X):\n",
    "        \"\"\"Predict class labels\"\"\"\n",
    "        _, _, _, _, _, _, _, _, A5 = self._feedforward(X, self.W1, self.W2, self.W3, self.W4)\n",
    "        y_pred = np.argmax(A5, axis=0)\n",
    "        return y_pred\n"
   ]
  },
  {
   "cell_type": "code",
   "execution_count": null,
   "metadata": {},
   "outputs": [],
   "source": []
  },
  {
   "cell_type": "code",
   "execution_count": 59,
   "metadata": {},
   "outputs": [],
   "source": [
    "class FiveLayerPerceptron(TwoLayerPerceptronBase):\n",
    "    def _feedforward(self, X, W1, W2, W3, W4, W5):\n",
    "        A1 = self._add_bias_unit(X.T, how='row')\n",
    "        Z1 = W1 @ A1\n",
    "        A2 = self._sigmoid(Z1)\n",
    "        A2 = self._add_bias_unit(A2, how='row')\n",
    "        Z2 = W2 @ A2\n",
    "        A3 = self._sigmoid(Z2)\n",
    "        A3 = self._add_bias_unit(A3, how='row')\n",
    "        Z3 = W3 @ A2\n",
    "        A4 = self._sigmoid(Z3)\n",
    "        A4 = self._add_bias_unit(A4, how='row')\n",
    "        Z4 = W4 @ A4\n",
    "        A5 = self._sigmoid(Z4)\n",
    "        A5 = self._add_bias_unit(A5, how='row')\n",
    "        Z5 = W5 @ A5\n",
    "        A6 = self._sigmoid(Z5)\n",
    "        return A1, Z1, A2, Z2, A3,Z3, A4, Z4, A5, Z5, A6"
   ]
  },
  {
   "cell_type": "code",
   "execution_count": null,
   "metadata": {},
   "outputs": [],
   "source": []
  },
  {
   "cell_type": "code",
   "execution_count": null,
   "metadata": {},
   "outputs": [],
   "source": []
  },
  {
   "cell_type": "markdown",
   "metadata": {},
   "source": [
    "## 4.Exceptional Work\n",
    "\n",
    "One idea (required for 7000 level students):  Implement adaptive momentum (AdaM) in the five layer neural network and quantify the performance"
   ]
  },
  {
   "cell_type": "code",
   "execution_count": null,
   "metadata": {},
   "outputs": [],
   "source": []
  }
 ],
 "metadata": {
  "kernelspec": {
   "display_name": "Python 3",
   "language": "python",
   "name": "python3"
  }
 },
 "nbformat": 4,
 "nbformat_minor": 2
}